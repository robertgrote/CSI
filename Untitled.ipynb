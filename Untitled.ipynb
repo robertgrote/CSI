{
 "cells": [
  {
   "cell_type": "code",
   "execution_count": null,
   "metadata": {
    "collapsed": false
   },
   "outputs": [],
   "source": [
    "# CSI\n",
    "# ROBERT GROTE\n",
    "# JANUARY OR FEBRUARY?!\n",
    "\n",
    "def heart_calc():\n",
    "    print 'This program calculates Maximum Heart Rate (MHR) and preferred Target Heart Rate (THR) Zones'\n",
    "    age=input('Please input your age: ')\n",
    "    MHR=220-age\n",
    "    print 'You maximum heart rate (MHR) is', MHR\n",
    "    print 'Please indicate your exercise objective as follows'\n",
    "    print '1=weight loss, building endurance'\n",
    "    print '2=weight management, improving cardio fitness'\n",
    "    print '3=interval workouts'\n",
    "    objective=input('Input your objective: ')\n",
    "    if objective==1:\n",
    "        print 'Your target heart rate zone is ', .6*MHR ,'-', .7*MHR, ' beats per minute'\n",
    "    elif objective==2:\n",
    "        print 'Your target heart rate zone is ', .7*MHR ,'-', .8*MHR, ' beats per minute'\n",
    "    elif objective==3:\n",
    "        print 'Your target heart rate zone is ', .8*MHR ,' or more beats per minute'\n",
    "\n",
    "heart_calc()"
   ]
  },
  {
   "cell_type": "code",
   "execution_count": null,
   "metadata": {
    "collapsed": false
   },
   "outputs": [],
   "source": [
    "heart_calc()"
   ]
  },
  {
   "cell_type": "code",
   "execution_count": null,
   "metadata": {
    "collapsed": false
   },
   "outputs": [
    {
     "name": "stdout",
     "output_type": "stream",
     "text": [
      "\n"
     ]
    }
   ],
   "source": [
    "#Developing Programs Example \n",
    "\n",
    "# Get information from user \n",
    "\n",
    "print \n",
    "\n",
    "name = raw_input(\"What is your name? \" ) \n",
    "print \"Hello \", name \n",
    "print \n",
    "print \"I understand you want to save money to buy something\" \n",
    "print\n",
    "item = raw_input (\"What are you interested in buying? \")\n",
    "print\n",
    "balance = float(raw_input(\"OK, what is the cost of the item? \"))\n",
    "print\n",
    "\n",
    "# catch potential input errors\n",
    "\n",
    "if (balance < 0):\n",
    "    print (\"Looks like you might have saved enough already\")     \n",
    "    balance = 0     \n",
    "    payment = 1\n",
    "else:     \n",
    "    payment = float(raw_input(\"Enter how much you wish to save each period: \"))\n",
    "    if (payment <= 0):\n",
    "        payment = float(raw_input(\"Your payment must be positive. Please enter a positive value\"))\n",
    "    if (payment <= 0):\n",
    "        print \"Since you again entered a positive value, your assumed payment will be 1 per period\"\n",
    "        payment = 1 \n",
    "print\n",
    "\n",
    "# Calculate the necessary number of payments\n",
    "\n",
    "num_remaining_payments = balance/payment\n",
    "print \"The number of remaining payments is \", num_remaining_payments"
   ]
  },
  {
   "cell_type": "code",
   "execution_count": null,
   "metadata": {
    "collapsed": true
   },
   "outputs": [],
   "source": []
  }
 ],
 "metadata": {
  "anaconda-cloud": {},
  "kernelspec": {
   "display_name": "Python [default]",
   "language": "python",
   "name": "python2"
  },
  "language_info": {
   "codemirror_mode": {
    "name": "ipython",
    "version": 2
   },
   "file_extension": ".py",
   "mimetype": "text/x-python",
   "name": "python",
   "nbconvert_exporter": "python",
   "pygments_lexer": "ipython2",
   "version": "2.7.12"
  }
 },
 "nbformat": 4,
 "nbformat_minor": 1
}
